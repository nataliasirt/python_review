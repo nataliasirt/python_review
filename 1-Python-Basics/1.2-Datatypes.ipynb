{
 "cells": [
  {
   "cell_type": "markdown",
   "id": "3cfc0a26",
   "metadata": {},
   "source": [
    "Python has the following data types built-in by default, in these categories:\n",
    "\n",
    "Text Type:\tstr\n",
    "Numeric Types:\tint, float, complex\n",
    "Sequence Types:\tlist, tuple, range\n",
    "Mapping Type:\tdict\n",
    "Set Types:\tset, frozenset\n",
    "Boolean Type:\tbool\n",
    "Binary Types:\tbytes, bytearray, memoryview\n",
    "None Type:\tNoneType\n"
   ]
  },
  {
   "cell_type": "code",
   "execution_count": null,
   "id": "56fc59f9",
   "metadata": {},
   "outputs": [
    {
     "name": "stdout",
     "output_type": "stream",
     "text": [
      "<class 'int'>\n",
      "<class 'list'>\n",
      "<class 'tuple'>\n",
      "<class 'range'>\n",
      "<class 'dict'>\n"
     ]
    }
   ],
   "source": [
    "##Getting the Data Type\n",
    "x = 5 #integer\n",
    "print(type(x))\n",
    "x = [\"apple\", \"banana\", \"cherry\"] #list\n",
    "print(type(x))\n",
    "x = (\"apple\", \"banana\", \"cherry\") #tuple \n",
    "print(type(x))      \n",
    "x = range(6) #range\n",
    "print(type(x))  \n",
    "x = {\"name\" : \"John\", \"age\" : 36} #dictionary\n",
    "print(type(x))  \n",
    "x = {\"apple\", \"banana\", \"cherry\"} #set\n",
    "print(type(x))  \n"
   ]
  },
  {
   "cell_type": "code",
   "execution_count": 3,
   "id": "d6f93b08",
   "metadata": {},
   "outputs": [
    {
     "name": "stdout",
     "output_type": "stream",
     "text": [
      "Hello World\n",
      "20\n"
     ]
    }
   ],
   "source": [
    "##Setting the Specific Data Type\n",
    "x = str(\"Hello World\")\n",
    "print(x)\n",
    "x = int(20)     \n",
    "print(x)"
   ]
  },
  {
   "cell_type": "code",
   "execution_count": 4,
   "id": "c43aa603",
   "metadata": {},
   "outputs": [
    {
     "name": "stdout",
     "output_type": "stream",
     "text": [
      "Hello5\n"
     ]
    }
   ],
   "source": [
    "#Python - String Concatenation\n",
    "#result=\"Hello\" + 5\n",
    "result = \"Hello\" + str(5)  # Convert integer to string before concatenation\n",
    "print(result)\n"
   ]
  },
  {
   "cell_type": "code",
   "execution_count": null,
   "id": "6c2ab1a1",
   "metadata": {},
   "outputs": [],
   "source": []
  },
  {
   "cell_type": "code",
   "execution_count": null,
   "id": "91f7e156",
   "metadata": {},
   "outputs": [],
   "source": []
  }
 ],
 "metadata": {
  "kernelspec": {
   "display_name": "Python 3",
   "language": "python",
   "name": "python3"
  },
  "language_info": {
   "codemirror_mode": {
    "name": "ipython",
    "version": 3
   },
   "file_extension": ".py",
   "mimetype": "text/x-python",
   "name": "python",
   "nbconvert_exporter": "python",
   "pygments_lexer": "ipython3",
   "version": "3.10.0"
  }
 },
 "nbformat": 4,
 "nbformat_minor": 5
}
