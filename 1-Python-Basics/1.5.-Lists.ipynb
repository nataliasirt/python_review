{
 "cells": [
  {
   "cell_type": "code",
   "execution_count": null,
   "id": "8da07428",
   "metadata": {},
   "outputs": [
    {
     "name": "stdout",
     "output_type": "stream",
     "text": [
      "<class 'list'>\n",
      "[1, 2, 3, 'a', 'b', 'c', [4, 5, 6]]\n",
      "[10, 2, 3, 'a', 'b', 'c', [4, 5, 6]]\n",
      "[10, 2, 3, 'a', 'b', 'c', [4, 5, 6], 'd']\n",
      "[10, 2, 3, 'a', 'c', [4, 5, 6], 'd']\n",
      "10\n",
      "a\n",
      "5\n",
      "7\n",
      "[1, 2, 3, 4]\n"
     ]
    }
   ],
   "source": [
    "# Lists are created using square brackets:\n",
    "lst=[]\n",
    "print(type(lst))\n",
    "# List items are ordered, changeable, and allow duplicate values. Lists can contain any type of object, including other lists:\n",
    "lst = [1, 2, 3, 'a', 'b', 'c', [4, 5, 6]]\n",
    "print(lst)  \n",
    "# Lists are mutable, meaning you can change their contents:\n",
    "lst[0] = 10 \n",
    "print(lst)  # Output: [10, 2, 3, 'a', 'b', 'c', [4, 5, 6]]\n",
    "# You can append items to a list:   \n",
    "lst.append('d')\n",
    "print(lst)  # Output: [10, 2, 3, 'a', 'b', 'c', [4, 5, 6], 'd']\n",
    "# You can also remove items from a list:    \n",
    "lst.remove('b')\n",
    "print(lst)  # Output: [10, 2, 3, 'a', 'c', [4, 5, 6], 'd']\n",
    "# You can access items in a list using their index: \n",
    "print(lst[0])  # Output: 10\n",
    "print(lst[3])  # Output: 'a'        \n",
    "# You can also access items in a nested list:\n",
    "print(lst[5][1])  # Output: 5   \n",
    "# You can find the length of a list using the len() function:\n",
    "print(len(lst))  # Output: 7    \n",
    "# You can sort a list using the sort() method:\n",
    "lst2 = [3, 1, 4, 2]\n",
    "lst2.sort()\n",
    "print(lst2)  # Output: [1, 2, 3, 4]"
   ]
  },
  {
   "cell_type": "code",
   "execution_count": 3,
   "id": "6f5f75ae",
   "metadata": {},
   "outputs": [
    {
     "name": "stdout",
     "output_type": "stream",
     "text": [
      "[3, 4, 5]\n",
      "[1, 2, 3, 4, 5]\n",
      "[6, 7, 8, 9, 10]\n",
      "[1, 3, 5, 7, 9]\n",
      "[10, 9, 8, 7, 6, 5, 4, 3, 2, 1]\n"
     ]
    }
   ],
   "source": [
    "## Slicing List\n",
    "numbers = [1, 2, 3, 4, 5, 6, 7, 8, 9, 10]\n",
    "print(numbers[2:5])\n",
    "print(numbers[:5])\n",
    "print(numbers[5:])\n",
    "print(numbers[::2])\n",
    "print(numbers[::-1])"
   ]
  },
  {
   "cell_type": "code",
   "execution_count": 4,
   "id": "31cfdd33",
   "metadata": {},
   "outputs": [
    {
     "data": {
      "text/plain": [
       "[1, 4, 7, 10]"
      ]
     },
     "execution_count": 4,
     "metadata": {},
     "output_type": "execute_result"
    }
   ],
   "source": [
    "numbers[::3]"
   ]
  },
  {
   "cell_type": "code",
   "execution_count": 5,
   "id": "cc482496",
   "metadata": {},
   "outputs": [
    {
     "name": "stdout",
     "output_type": "stream",
     "text": [
      "1\n",
      "2\n",
      "3\n",
      "4\n",
      "5\n",
      "6\n",
      "7\n",
      "8\n",
      "9\n",
      "10\n"
     ]
    }
   ],
   "source": [
    "### Iterating Over List\n",
    "\n",
    "for number in numbers:\n",
    "    print(number)"
   ]
  },
  {
   "cell_type": "code",
   "execution_count": 6,
   "id": "92d56fbb",
   "metadata": {},
   "outputs": [
    {
     "name": "stdout",
     "output_type": "stream",
     "text": [
      "[1, 2, 3, 4, 5]\n",
      "[1, 2, 3, 4, 5, 6, 7, 8, 9, 10]\n",
      "[1, 4, 9, 16, 25, 36, 49, 64, 81, 100]\n",
      "[1, 4, 9, 16, 25, 36, 49, 64, 81, 100]\n",
      "[2, 4, 6, 8, 10]\n"
     ]
    }
   ],
   "source": [
    "# Using the list() constructor to make a List:\n",
    "my_list = list((1, 2, 3, 4, 5))\n",
    "print(my_list)  # Output: [1, 2, 3, 4, 5]\n",
    "# Using the range() function to create a list of numbers:   \n",
    "my_range_list = list(range(1, 11))  # Creates a list of numbers from 1 to 10\n",
    "print(my_range_list)  # Output: [1, 2, 3, 4, 5, 6, 7, 8, 9, 10]\n",
    "# Using list comprehension to create a list:\n",
    "squared_numbers = [x**2 for x in range(1, 11)]  # Squares numbers from 1 to 10\n",
    "print(squared_numbers)  # Output: [1, 4, 9, 16, 25, 36, 49, 64, 81, 100]\n",
    "# Using the map() function to create a list:\n",
    "def square(x):\n",
    "    return x**2\n",
    "squared_numbers_map = list(map(square, range(1, 11)))  # Squares numbers from 1 to 10\n",
    "print(squared_numbers_map)  # Output: [1, 4, 9, 16, 25, 36, 49, 64, 81, 100]\n",
    "# Using the filter() function to create a list:\n",
    "def is_even(x):\n",
    "    return x % 2 == 0   \n",
    "even_numbers = list(filter(is_even, range(1, 11)))  # Filters even numbers from 1 to 10\n",
    "print(even_numbers)  # Output: [2, 4, 6, 8, 10]"
   ]
  }
 ],
 "metadata": {
  "kernelspec": {
   "display_name": "Python 3",
   "language": "python",
   "name": "python3"
  },
  "language_info": {
   "codemirror_mode": {
    "name": "ipython",
    "version": 3
   },
   "file_extension": ".py",
   "mimetype": "text/x-python",
   "name": "python",
   "nbconvert_exporter": "python",
   "pygments_lexer": "ipython3",
   "version": "3.10.0"
  }
 },
 "nbformat": 4,
 "nbformat_minor": 5
}
